{
 "cells": [
  {
   "cell_type": "code",
   "execution_count": 22,
   "id": "803298e8",
   "metadata": {},
   "outputs": [],
   "source": [
    "import pandas as pd\n",
    "import copy\n",
    "import time\n",
    "import numpy as np"
   ]
  },
  {
   "cell_type": "code",
   "execution_count": 2,
   "id": "376aea2b",
   "metadata": {},
   "outputs": [],
   "source": [
    "def load_data(filepath):\n",
    "    with open(filepath) as fd:\n",
    "        headers = [ next(fd) for i in range(6) ]\n",
    "        df = pd.read_csv(fd, sep='\\t', lineterminator='\\n')\n",
    "        df = df.drop([\";\", \"~\"], axis = 1)\n",
    "        return df"
   ]
  },
  {
   "cell_type": "code",
   "execution_count": 3,
   "id": "03ec30f6",
   "metadata": {},
   "outputs": [],
   "source": [
    "def linearize(value, agg=None):\n",
    "    if agg is None:\n",
    "        agg = []\n",
    "    if isinstance(value, (tuple, list)):\n",
    "        for item in value:\n",
    "            linearize(item, agg)\n",
    "    else:\n",
    "        agg.insert(0,value)\n",
    "    return agg[:-1], agg[-1]"
   ]
  },
  {
   "cell_type": "code",
   "execution_count": 4,
   "id": "e4c126bb",
   "metadata": {},
   "outputs": [],
   "source": [
    "def unnest(d, keys=[]):\n",
    "    result = []\n",
    "    for k, v in d.items():\n",
    "        if isinstance(v, dict):\n",
    "            result.extend(unnest(v, keys + [k]))\n",
    "        else:\n",
    "            result.append(tuple(keys + [k, v]))\n",
    "    return result"
   ]
  },
  {
   "cell_type": "code",
   "execution_count": 5,
   "id": "b87f53a2",
   "metadata": {},
   "outputs": [],
   "source": [
    "from collections import defaultdict\n",
    "from heapq import *\n",
    "\n",
    "def dijkstra(edges, f, t):\n",
    "    g = defaultdict(list)\n",
    "    for l,r,c in edges:\n",
    "        g[l].append((c,r))\n",
    "    q, seen, mins = [(0,f,())], set(), {f: 0}\n",
    "    while q:\n",
    "        (cost,v1,path) = heappop(q)\n",
    "        if v1 not in seen:\n",
    "            seen.add(v1)\n",
    "            path = (v1, path)\n",
    "            if v1 == t: return (cost, path)\n",
    "\n",
    "            for c, v2 in g.get(v1, ()):\n",
    "                if v2 in seen: continue\n",
    "                prev = mins.get(v2, None)\n",
    "                next = cost + c\n",
    "                if prev is None or next < prev:\n",
    "                    mins[v2] = next\n",
    "                    heappush(q, (next, v2, path))\n",
    "\n",
    "    return float(\"inf\")"
   ]
  },
  {
   "cell_type": "code",
   "execution_count": 20,
   "id": "9a4031c0",
   "metadata": {},
   "outputs": [],
   "source": [
    "def penalty(graph, source, target, k = 1):\n",
    "    A = []\n",
    "    counter = 0\n",
    "    total_linear = linear_distance[str(source)][target]\n",
    "    graph_copy = copy.deepcopy(graph)\n",
    "    tuple_graph = unnest(graph_copy)\n",
    "    path, _ = linearize(dijkstra(tuple_graph, source, target))\n",
    "    A.append(path)\n",
    "    while len(A)!=k:\n",
    "        for i in range(len(path)-1):\n",
    "            if linear_distance[str(source)][path[i]] > 0.1*total_linear and linear_distance[str(target)][path[i]] > 0.1*total_linear:\n",
    "                graph_copy[path[i]][path[i+1]] = round(1.1*graph_copy[path[i]][path[i+1]],2)\n",
    "        tuple_graph = unnest(graph_copy)\n",
    "        path, _ = linearize(dijkstra(tuple_graph, source, target))\n",
    "        counter += 1\n",
    "        if path not in A:\n",
    "            A.append(path)\n",
    "        else:\n",
    "            if counter > 500:\n",
    "                del path\n",
    "                break\n",
    "            else:\n",
    "                continue\n",
    "    return A"
   ]
  },
  {
   "cell_type": "code",
   "execution_count": 13,
   "id": "410b2e4c",
   "metadata": {},
   "outputs": [
    {
     "name": "stdout",
     "output_type": "stream",
     "text": [
      "0.0\n"
     ]
    }
   ],
   "source": [
    "if __name__ == \"__main__\":\n",
    "    filepath = r'C:\\Users\\n10405992\\OneDrive - Queensland University of Technology\\Raghav Malhotra - RM\\Code\\Path Choice\\Data\\final\\network_13_07_2021.csv'\n",
    "    network = pd.read_csv(filepath, usecols = ['From_origi', 'To_destina', 'Total_Minu'])\n",
    "    network['Total_Minu'] = round(network['Total_Minu']*60,2)\n",
    "    tt = network.groupby('From_origi')[['To_destina', 'Total_Minu']].apply(lambda x: x.set_index('To_destina').to_dict(orient='index')).to_dict()\n",
    "    for key in tt:\n",
    "        for x in tt[key]:\n",
    "            for y in tt[key][x]:\n",
    "                tt[key][x] = tt[key][x][y]\n",
    "    linear_df = pd.read_csv(r\"C:\\Users\\n10405992\\OneDrive - Queensland University of Technology\\Raghav Malhotra - RM\\Code\\Path Choice\\Data\\final\\Final linear network.csv\").set_index(\"ID\")\n",
    "    linear_distance = linear_df.to_dict()"
   ]
  },
  {
   "cell_type": "code",
   "execution_count": 31,
   "id": "ce2772f9",
   "metadata": {},
   "outputs": [],
   "source": [
    "origins = [10423, 10599]\n",
    "destination = [10415, 10651]\n",
    "paths = []\n",
    "for origin in origins:\n",
    "    for destination in destinations:\n",
    "        paths = penalty(tt, origin, destination, 15)\n",
    "        new_paths = []\n",
    "        for path in paths:\n",
    "            z = []\n",
    "            for i in range(len(path)-1):\n",
    "                z.append(int(str(path[i]) + str(path[i+1])))\n",
    "            new_paths.append(z)\n",
    "        output = pd.DataFrame({'ID': np.arange(0,len(new_paths)), 'Path': new_paths})\n",
    "        output.to_csv(\"Penalty\" + str(origin) + \"-\" + str(destination) + \".csv\")"
   ]
  }
 ],
 "metadata": {
  "kernelspec": {
   "display_name": "Python 3 (ipykernel)",
   "language": "python",
   "name": "python3"
  },
  "language_info": {
   "codemirror_mode": {
    "name": "ipython",
    "version": 3
   },
   "file_extension": ".py",
   "mimetype": "text/x-python",
   "name": "python",
   "nbconvert_exporter": "python",
   "pygments_lexer": "ipython3",
   "version": "3.10.11"
  }
 },
 "nbformat": 4,
 "nbformat_minor": 5
}

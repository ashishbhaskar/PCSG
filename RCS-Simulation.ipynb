{
 "cells": [
  {
   "cell_type": "code",
   "execution_count": null,
   "id": "5bfae6a1",
   "metadata": {},
   "outputs": [],
   "source": [
    "import pandas as pd\n",
    "import copy\n",
    "import scipy.stats as stats\n",
    "import time\n",
    "import numpy as np"
   ]
  },
  {
   "cell_type": "code",
   "execution_count": null,
   "id": "0f984536",
   "metadata": {},
   "outputs": [],
   "source": [
    "def linearize(value, agg=None):\n",
    "    if agg is None:\n",
    "        agg = []\n",
    "    if isinstance(value, (tuple, list)):\n",
    "        for item in value:\n",
    "            linearize(item, agg)\n",
    "    else:\n",
    "        agg.insert(0,value)\n",
    "    return agg[:-1], agg[-1]"
   ]
  },
  {
   "cell_type": "code",
   "execution_count": null,
   "id": "ad99c2d1",
   "metadata": {},
   "outputs": [],
   "source": [
    "def unnest(d, keys=[]):\n",
    "    result = []\n",
    "    for k, v in d.items():\n",
    "        if isinstance(v, dict):\n",
    "            result.extend(unnest(v, keys + [k]))\n",
    "        else:\n",
    "            result.append(tuple(keys + [k, v]))\n",
    "    return result"
   ]
  },
  {
   "cell_type": "code",
   "execution_count": null,
   "id": "0c54bbfc",
   "metadata": {},
   "outputs": [],
   "source": [
    "from collections import defaultdict\n",
    "from heapq import *\n",
    "\n",
    "def dijkstra(edges, f, t):\n",
    "    g = defaultdict(list)\n",
    "    for l,r,c in edges:\n",
    "        g[l].append((c,r))\n",
    "    q, seen, mins = [(0,f,())], set(), {f: 0}\n",
    "    while q:\n",
    "        (cost,v1,path) = heappop(q)\n",
    "        if v1 not in seen:\n",
    "            seen.add(v1)\n",
    "            path = (v1, path)\n",
    "            if v1 == t: return (cost, path)\n",
    "\n",
    "            for c, v2 in g.get(v1, ()):\n",
    "                if v2 in seen: continue\n",
    "                prev = mins.get(v2, None)\n",
    "                next = cost + c\n",
    "                if prev is None or next < prev:\n",
    "                    mins[v2] = next\n",
    "                    heappush(q, (next, v2, path))\n",
    "\n",
    "    return float(\"inf\")"
   ]
  },
  {
   "cell_type": "code",
   "execution_count": null,
   "id": "6368bb05",
   "metadata": {},
   "outputs": [],
   "source": [
    "## Currently using Truncated normal distribution which can be changed to accomodate more types of distributions"
   ]
  },
  {
   "cell_type": "code",
   "execution_count": null,
   "id": "058e46c5",
   "metadata": {},
   "outputs": [],
   "source": [
    "import math\n",
    "def network_construction(graph,max_t, ff_time, draws):\n",
    "    graphs = [copy.deepcopy(graph) for i in range(draws)]\n",
    "    for key, value in graph.items():\n",
    "        for k, v in value.items():\n",
    "            mu = graph[key][k]\n",
    "            sigma = 0.2*mu\n",
    "            weights = stats.truncnorm(((ff_time[key][k]) - mu) / sigma, max_t[key][k], loc=mu, scale=sigma).rvs(size = draws)\n",
    "            for i in range(draws):\n",
    "                graphs[i][key][k] = weights[i]\n",
    "    return graphs"
   ]
  },
  {
   "cell_type": "code",
   "execution_count": null,
   "id": "38596be6",
   "metadata": {},
   "outputs": [],
   "source": [
    "def fix_dict(d):\n",
    "    for key in d:\n",
    "        for x in d[key]:\n",
    "            for y in d[key][x]:\n",
    "                d[key][x] = d[key][x][y]\n",
    "    return d"
   ]
  },
  {
   "cell_type": "code",
   "execution_count": null,
   "id": "d73cfa7a",
   "metadata": {},
   "outputs": [],
   "source": [
    "def get_paths(tt, max_t, ff_time, origin, desti, draws):\n",
    "    A = []\n",
    "    graphs = network_construction(tt,max_t,ff_time, draws)\n",
    "    for i in range(draws):\n",
    "        g = graphs[i]\n",
    "        path = linearize(dijkstra(unnest(g), origin,desti))\n",
    "        if path[0] not in A:\n",
    "            A.append(path[0])\n",
    "        else:\n",
    "            continue\n",
    "    return A"
   ]
  },
  {
   "cell_type": "code",
   "execution_count": null,
   "id": "501538b8",
   "metadata": {},
   "outputs": [],
   "source": [
    "if __name__ == \"__main__\":\n",
    "    path = r'C:\\Users\\n10405992\\OneDrive - Queensland University of Technology\\Raghav Malhotra - RM\\Code\\Path Choice\\Data\\final\\Simulation Network.csv'\n",
    "    network = pd.read_csv(path, usecols = ['From_o_sen', 'To_d_senso','Total_Kilo_x', 'Total_Minu_x', 'speed'])\n",
    "    network['FFT'] = round((network['Total_Kilo_x']/network['speed'])*3600,2)\n",
    "    network['Total_Minu_x'] = round(network['Total_Minu_x']*60,2)\n",
    "    network['Max_time'] = round((network['Total_Kilo_x']/10)*3600,2)\n",
    "    tt = network.groupby('From_o_sen')[['To_d_senso', 'Total_Minu_x']].apply(lambda x: x.set_index('To_d_senso').to_dict(orient='index')).to_dict()\n",
    "    fft = network.groupby('From_o_sen')[['To_d_senso', 'FFT']].apply(lambda x: x.set_index('To_d_senso').to_dict(orient='index')).to_dict()\n",
    "    max_time = network.groupby('From_o_sen')[['To_d_senso', 'Max_time']].apply(lambda x: x.set_index('To_d_senso').to_dict(orient='index')).to_dict()\n",
    "#     point = df.groupby('OriginOID')[['DestinationOID', 'Total_Distance']].apply(lambda x: x.set_index('DestinationOID').to_dict(orient='index')).to_dict()\n",
    "    tt = fix_dict(tt)\n",
    "    fft = fix_dict(fft)\n",
    "    max_time = fix_dict(max_time)\n",
    "    origins = [10423,10599]\n",
    "    desti = [10651,10415]"
   ]
  },
  {
   "cell_type": "markdown",
   "id": "44547dfe",
   "metadata": {},
   "source": [
    "## Runtime analysis"
   ]
  },
  {
   "cell_type": "code",
   "execution_count": null,
   "id": "33c0f7c9",
   "metadata": {},
   "outputs": [],
   "source": [
    "origins = [10423,10599]\n",
    "destinations = [10651,10415]"
   ]
  },
  {
   "cell_type": "code",
   "execution_count": null,
   "id": "6a55815e",
   "metadata": {},
   "outputs": [],
   "source": [
    "runtime = {}\n",
    "avg_paths = {}\n",
    "for origin in origins:\n",
    "    for destination in desti:\n",
    "        for draws in range(10,151,5):\n",
    "            start = time.time()\n",
    "            paths = get_paths(tt, max_time, fft, origin, destination, draws)\n",
    "            end = time.time()\n",
    "            num_paths = len(paths)\n",
    "            try:\n",
    "                runtime[draws] += (end-start)/4\n",
    "                avg_paths[draws] += num_paths/4\n",
    "            except:\n",
    "                runtime[draws] = (end-start)/4\n",
    "                avg_paths[draws] = num_paths/4\n",
    "            new_paths = []\n",
    "            for path in paths:\n",
    "                z = []\n",
    "                for i in range(len(path)-1):\n",
    "                    z.append(int(str(path[i]) + str(path[i+1])))\n",
    "                new_paths.append(z)\n",
    "            output = pd.DataFrame({'ID': range(len(paths)), 'Paths': new_paths})\n",
    "            output.to_csv(str(origin) + \"-\" + str(destination) + \"\\\\\" + \"Draws \" + str(draws) + \".csv\")"
   ]
  },
  {
   "cell_type": "code",
   "execution_count": null,
   "id": "52779415",
   "metadata": {},
   "outputs": [],
   "source": [
    "metrics = pd.DataFrame({'Avg Paths': avg_paths, 'Runtime': runtime}).to_csv(\"metrics.csv\", index = False)"
   ]
  },
  {
   "cell_type": "markdown",
   "id": "1138b0fe",
   "metadata": {},
   "source": [
    "## Output paths"
   ]
  },
  {
   "cell_type": "code",
   "execution_count": null,
   "id": "af27177c",
   "metadata": {},
   "outputs": [],
   "source": [
    "for origin in origins:\n",
    "    for destination in destinations:\n",
    "        new_paths = []\n",
    "        paths = get_paths(tt, max_time, fft, origin, destination, 50)\n",
    "        for path in paths:\n",
    "            z = []\n",
    "            for i in range(len(path) - 1):\n",
    "                z.append(int(str(path[i]) + str(path[i+1])))\n",
    "            new_paths.append(z)\n",
    "        output = pd.DataFrame({'ID': np.arange(0,len(new_paths)), 'Path': new_paths})\n",
    "        output.to_csv(str(origin) + \"-\" + str(destination)+\".csv\", index = False)"
   ]
  }
 ],
 "metadata": {
  "kernelspec": {
   "display_name": "Python 3 (ipykernel)",
   "language": "python",
   "name": "python3"
  },
  "language_info": {
   "codemirror_mode": {
    "name": "ipython",
    "version": 3
   },
   "file_extension": ".py",
   "mimetype": "text/x-python",
   "name": "python",
   "nbconvert_exporter": "python",
   "pygments_lexer": "ipython3",
   "version": "3.10.11"
  }
 },
 "nbformat": 4,
 "nbformat_minor": 5
}
